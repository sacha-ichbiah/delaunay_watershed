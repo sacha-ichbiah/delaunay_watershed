{
 "cells": [
  {
   "cell_type": "code",
   "execution_count": 1,
   "metadata": {},
   "outputs": [
    {
     "name": "stderr",
     "output_type": "stream",
     "text": [
      "/Users/sachaichbiah/opt/anaconda3/lib/python3.8/site-packages/IO-1.0-py3.8.egg/IO/IO.py:24: UserWarning: KLB library is not installed\n"
     ]
    },
    {
     "data": {
      "text/plain": [
       "<matplotlib.colorbar.Colorbar at 0x7fddd0589550>"
      ]
     },
     "execution_count": 1,
     "metadata": {},
     "output_type": "execute_result"
    },
    {
     "data": {
      "image/png": "[encoded data removed]",
      "text/plain": [
       "<Figure size 432x288 with 2 Axes>"
      ]
     },
     "metadata": {
      "needs_background": "light"
     },
     "output_type": "display_data"
    }
   ],
   "source": [
    "import skimage.io as io \n",
    "import matplotlib.pyplot as plt\n",
    "from IO import imread as inrimread\n",
    "from time import time\n",
    "import numpy as np\n",
    "\n",
    "def make_index_right(n): \n",
    "    return((\"0000000\"+str(n))[-3:])\n",
    "\n",
    "folder = \"Phallusia_temp/\"\n",
    "base_label = \"/Users/sachaichbiah/Documents/PHD/Data/Ascidians_lemaire_lightsheet/PM1/Post/POST/POST_RELEASE/Astec-Pm1_post_t\"\n",
    "base_raw = \"/Users/sachaichbiah/Documents/PHD/Data/Ascidians_lemaire_lightsheet/PM1/Fuse/Astec-pm1/FUSE/FUSE_RELEASE/Astec-pm1_fuse_t\"\n",
    "t=1\n",
    "labels = np.array(inrimread(base_label + make_index_right(t) + \".inr.gz\"))-1\n",
    "image = np.array(inrimread(base_raw + make_index_right(t) + \".inr.gz\"))\n",
    "plt.imshow(labels[300])\n",
    "plt.colorbar()"
   ]
  },
  {
   "cell_type": "code",
   "execution_count": 2,
   "metadata": {},
   "outputs": [
    {
     "name": "stdout",
     "output_type": "stream",
     "text": [
      "Mode == Torch\n",
      "Kernel size = 7\n",
      "Computing EDT ...\n",
      "EDT computed in  63.57\n",
      "Searching local extremas ...\n",
      "Number of local minimas : 34501\n",
      "Number of local maxes : 287\n",
      "Local minimas computed in  243.2\n",
      "Starting triangulation..\n",
      "Triangulation build in  1.05\n",
      "Graph build in  11.222\n",
      "Watershed done in  14.137\n"
     ]
    }
   ],
   "source": [
    "from delaunay_watershed_3d import geometry_reconstruction_3d\n",
    "\n",
    "def make_idx(n): \n",
    "    return((\"000\"+str(n))[-3:])\n",
    "\n",
    "dist = 7\n",
    "DW = geometry_reconstruction_3d(labels,min_dist = dist, expansion_labels =0,mode='torch',print_info=True,original_image = image)"
   ]
  },
  {
   "cell_type": "code",
   "execution_count": 3,
   "metadata": {},
   "outputs": [],
   "source": [
    "#v = DW.plot_in_napari()"
   ]
  },
  {
   "cell_type": "code",
   "execution_count": null,
   "metadata": {},
   "outputs": [],
   "source": [
    "from skimage.segmentation import expand_labels\n",
    "from delaunay_watershed_3d import reconstruct_mask_from_dict\n",
    "DW.export_segmentation(\"Dict_mask.npy\")\n",
    "labels = reconstruct_mask_from_dict(\"Dict_mask.npy\")\n",
    "#v = napari.view_image(labels)\n",
    "#plt.figure(figsize=(20,20))\n",
    "#plt.imshow(expand_labels(reconstruct_mask_from_dict(\"Dict_mask.npy\"),0),plt.cm.nipy_spectral)"
   ]
  },
  {
   "cell_type": "code",
   "execution_count": null,
   "metadata": {},
   "outputs": [],
   "source": [
    "import sys\n",
    "import numpy as np \n",
    "D = np.load(\"Dict_mask.npy\",allow_pickle=True).item()\n",
    "Dict_memory_footprint = D['Verts'].nbytes + D['Faces'].nbytes + D['seeds'].nbytes + D['image_shape'].nbytes\n",
    "print(\"Size of Delaunay-Watershed data:\",Dict_memory_footprint,\"bytes\")\n",
    "print(\"Size of the labels:\",labels.nbytes,\"bytes\")\n",
    "print(\"Relative size:\", Dict_memory_footprint/labels.nbytes)"
   ]
  },
  {
   "cell_type": "code",
   "execution_count": null,
   "metadata": {},
   "outputs": [],
   "source": []
  }
 ],
 "metadata": {
  "kernelspec": {
   "display_name": "Python 3",
   "language": "python",
   "name": "python3"
  },
  "language_info": {
   "codemirror_mode": {
    "name": "ipython",
    "version": 3
   },
   "file_extension": ".py",
   "mimetype": "text/x-python",
   "name": "python",
   "nbconvert_exporter": "python",
   "pygments_lexer": "ipython3",
   "version": "3.8.3"
  }
 },
 "nbformat": 4,
 "nbformat_minor": 4
}
