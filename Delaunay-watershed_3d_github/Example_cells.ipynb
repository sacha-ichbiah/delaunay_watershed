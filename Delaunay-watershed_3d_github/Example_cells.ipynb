{
 "cells": [
  {
   "cell_type": "code",
   "execution_count": 3,
   "metadata": {},
   "outputs": [
    {
     "name": "stdout",
     "output_type": "stream",
     "text": [
      "Mode == Torch\n",
      "Kernel size = 5\n",
      "Computing EDT ...\n",
      "EDT computed in  3.11\n",
      "Searching local extremas ...\n",
      "Number of local minimas : 2625\n",
      "Number of local maxes : 95\n",
      "Local minimas computed in  10.26\n",
      "Starting triangulation..\n",
      "Triangulation build in  0.35\n",
      "Graph build in  3.511\n",
      "Watershed done in  0.851\n"
     ]
    }
   ],
   "source": [
    "from delaunay_watershed_3d import geometry_reconstruction_3d\n",
    "import skimage.io as io \n",
    "\n",
    "def make_idx(n): \n",
    "    return((\"000\"+str(n))[-3:])\n",
    "i = 2 \n",
    "dist = 5\n",
    "\n",
    "image_path = \"Images/1.tif\"\n",
    "original_image = \n",
    "image = io.imread(image_path)\n",
    "DW = geometry_reconstruction_3d(image,min_dist = dist, expansion_labels =0,mode='torch',print_info=True)"
   ]
  },
  {
   "cell_type": "code",
   "execution_count": 4,
   "metadata": {},
   "outputs": [
    {
     "name": "stderr",
     "output_type": "stream",
     "text": [
      "/Users/sachaichbiah/opt/anaconda3/lib/python3.8/site-packages/numpy/core/numeric.py:2446: FutureWarning: elementwise comparison failed; returning scalar instead, but in the future will perform elementwise comparison\n",
      "  return bool(asarray(a1 == a2).all())\n",
      "/Users/sachaichbiah/opt/anaconda3/lib/python3.8/site-packages/numpy/core/numeric.py:2446: FutureWarning: elementwise comparison failed; returning scalar instead, but in the future will perform elementwise comparison\n",
      "  return bool(asarray(a1 == a2).all())\n"
     ]
    }
   ],
   "source": [
    "v = DW.plot_in_napari(add_mesh=True)"
   ]
  },
  {
   "cell_type": "code",
   "execution_count": 5,
   "metadata": {},
   "outputs": [],
   "source": [
    "DW.export_mesh(\"test.rec\")"
   ]
  },
  {
   "cell_type": "code",
   "execution_count": 24,
   "metadata": {},
   "outputs": [],
   "source": [
    "DW.plot_cells_polyscope()"
   ]
  },
  {
   "cell_type": "code",
   "execution_count": null,
   "metadata": {},
   "outputs": [],
   "source": [
    "1"
   ]
  },
  {
   "cell_type": "code",
   "execution_count": 14,
   "metadata": {},
   "outputs": [],
   "source": [
    "from Graph_functions_3D import *\n",
    "Tetra = np.sort(DW.Delaunay_Graph.tri.simplices,axis=1)\n",
    "faces_table = np.array(give_faces_table(Tetra))[:,:3]"
   ]
  },
  {
   "cell_type": "code",
   "execution_count": 15,
   "metadata": {},
   "outputs": [
    {
     "data": {
      "text/plain": [
       "2725"
      ]
     },
     "execution_count": 15,
     "metadata": {},
     "output_type": "execute_result"
    }
   ],
   "source": [
    "np.amax(faces_table)"
   ]
  },
  {
   "cell_type": "code",
   "execution_count": 16,
   "metadata": {},
   "outputs": [
    {
     "data": {
      "text/plain": [
       "<Surface layer 'Surface [1]' at 0x7fe63d89dc40>"
      ]
     },
     "execution_count": 16,
     "metadata": {},
     "output_type": "execute_result"
    }
   ],
   "source": [
    "v.add_surface((DW.Delaunay_Graph.tri.points,faces_table))"
   ]
  },
  {
   "cell_type": "code",
   "execution_count": 22,
   "metadata": {},
   "outputs": [
    {
     "data": {
      "text/plain": [
       "<polyscope.surface_mesh.SurfaceMesh at 0x7fe6789e4d00>"
      ]
     },
     "execution_count": 22,
     "metadata": {},
     "output_type": "execute_result"
    }
   ],
   "source": [
    "import polyscope as ps\n",
    "ps.init()\n",
    "ps.register_surface_mesh(\"Tetrahedralization\", DW.Delaunay_Graph.tri.points,faces_table)"
   ]
  },
  {
   "cell_type": "code",
   "execution_count": 23,
   "metadata": {},
   "outputs": [],
   "source": [
    "ps.show()"
   ]
  },
  {
   "cell_type": "code",
   "execution_count": 21,
   "metadata": {},
   "outputs": [],
   "source": [
    "ps.init()\n",
    "ps.register_point_cloud(\"Tesselation_points\",DW.Delaunay_Graph.tri.points)\n",
    "ps.show()"
   ]
  },
  {
   "cell_type": "code",
   "execution_count": 13,
   "metadata": {},
   "outputs": [],
   "source": [
    "import skimage.io as io \n",
    "import subprocess\n",
    "import os\n",
    "import polyscope as ps\n",
    "import numpy as np \n",
    "#folder = \"Remi_16_cells_10_20/\"\n",
    "#os.mkdir(folder)\n",
    "#size_x,size_y,size_z =  np.array([1.252,1.252,0.9999])*3\n",
    "#folder_name = \"../../Benchmark_force_inference/Data/3/1/\"\n",
    "#array = io.imread(folder_name + \"labels.tif\")\n",
    "#array = io.imread('../../labels_100_100_100.tif')\n",
    "array = image\n",
    "from pytorch3d.ops import cubify\n",
    "import torch\n",
    "idx_cells = np.unique(array)\n",
    "All_verts = []\n",
    "All_faces = []\n",
    "for i in range(1,len(idx_cells)) :\n",
    "    voxels = torch.tensor([(array==idx_cells[i]).astype(int)])\n",
    "    Mesh = cubify(voxels,1)\n",
    "    Verts = Mesh.verts_packed().numpy()\n",
    "    Faces = Mesh.faces_packed().numpy()\n",
    "    All_verts.append(Verts.copy())\n",
    "    All_faces.append(Faces.copy())\n",
    "\n",
    "from matplotlib import cm\n",
    "\n",
    "#for i in range(len(All_verts)): \n",
    "#    All_verts[i][:,1]*=2\n",
    "\n",
    "ps.init()\n",
    "for i in range(len(All_verts)):\n",
    "    ps.register_surface_mesh(\"Cubify_\"+str(i),All_verts[i],All_faces[i],color = cm.viridis((i+1)/len(All_verts)),edge_width=1.0)\n",
    "ps.show()"
   ]
  },
  {
   "cell_type": "code",
   "execution_count": null,
   "metadata": {},
   "outputs": [],
   "source": [
    "#E3711C\n",
    "#1C44E3"
   ]
  }
 ],
 "metadata": {
  "kernelspec": {
   "display_name": "Python 3",
   "language": "python",
   "name": "python3"
  },
  "language_info": {
   "codemirror_mode": {
    "name": "ipython",
    "version": 3
   },
   "file_extension": ".py",
   "mimetype": "text/x-python",
   "name": "python",
   "nbconvert_exporter": "python",
   "pygments_lexer": "ipython3",
   "version": "3.8.3"
  }
 },
 "nbformat": 4,
 "nbformat_minor": 4
}
