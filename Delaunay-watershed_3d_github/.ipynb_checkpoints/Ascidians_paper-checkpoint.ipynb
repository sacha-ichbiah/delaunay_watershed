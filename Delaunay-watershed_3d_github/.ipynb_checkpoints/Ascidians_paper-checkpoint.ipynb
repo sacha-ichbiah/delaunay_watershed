{
 "cells": [
  {
   "cell_type": "code",
   "execution_count": 1,
   "metadata": {},
   "outputs": [],
   "source": [
    "from Wrapper import build_wrapper\n",
    "from Geometric_utilities_3D import *\n",
    "from time import time\n",
    "import skimage.io as io"
   ]
  },
  {
   "cell_type": "code",
   "execution_count": 2,
   "metadata": {},
   "outputs": [
    {
     "data": {
      "text/plain": [
       "(161, 256, 256)"
      ]
     },
     "execution_count": 2,
     "metadata": {},
     "output_type": "execute_result"
    }
   ],
   "source": [
    "filename =\"/Users/sachaichbiah/Documents/PHD/Virtual_Embryo/Projects/Force_Inference_project/Segment_real_data/Ascidians/Data/Remi_16_time_65_contours.tif\"\n",
    "Stack=io.imread(filename).astype(float)#'/Users/sachaichbiah/Documents/PHD/Virtual_Embryo/Gitlab/Trash/delaunay-triangulations/3D_Arabidopsis_Ovules/Tiffs/N_294_final_crop_ds2_predictions.tif',memtest=False)\n",
    "\n",
    "import scipy \n",
    "\n",
    "membrane_prob = Stack\n",
    "\n",
    "val_thresh=0.7\n",
    "point_density = 0.9\n",
    "membrane_prob.shape"
   ]
  },
  {
   "cell_type": "code",
   "execution_count": 67,
   "metadata": {},
   "outputs": [
    {
     "data": {
      "image/png": "[encoded data removed]",
      "text/plain": [
       "<Figure size 720x360 with 2 Axes>"
      ]
     },
     "metadata": {
      "needs_background": "light"
     },
     "output_type": "display_data"
    }
   ],
   "source": [
    "plot_mask_to_evaluate_val_thresh(membrane_prob,val_thresh)"
   ]
  },
  {
   "cell_type": "code",
   "execution_count": 68,
   "metadata": {},
   "outputs": [
    {
     "name": "stdout",
     "output_type": "stream",
     "text": [
      "Min_dist 3\n",
      "Distance_thresh 3.333333333333333\n",
      "241833\n",
      "Number of points before filtering : 241841\n",
      "Number of points after filtering : 5627\n",
      "Score before :  9330.488926993097\n",
      "Score after :  8028.031705164358\n",
      "Number of points before filtering : 5528\n",
      "Number of points after filtering : 3994\n",
      "Size of the regularization shell 9\n",
      "Number of points before filtering : 80502\n",
      "Number of points after filtering : 5396\n",
      "Number of faces 127852\n",
      "Number of border faces 152\n",
      "Number of Nodes : 63964  Number of Edges : 127852\n"
     ]
    }
   ],
   "source": [
    "Seg = build_wrapper(membrane_prob,val_thresh,point_density,size_shell = 3.0)\n",
    "#tesselation,Total_EDT = build_tesselation_and_EDT_from_membrane_prob(membrane_prob,val_thresh,point_density,size_shell=20)"
   ]
  },
  {
   "cell_type": "code",
   "execution_count": 69,
   "metadata": {},
   "outputs": [
    {
     "name": "stdout",
     "output_type": "stream",
     "text": [
      "Number of Nodes : 63964  Number of Edges : 127852\n",
      "Number of Nodes : 26 Number of Edges : 124\n"
     ]
    }
   ],
   "source": [
    "Seg.build_graph()\n",
    "Seg.watershed_from_local_mins(min_distance = 10,print_info = True, plot_figure = False)\n",
    "#Seg.watershed_seeded(Coords,print_info=True,plot_figure = False)"
   ]
  },
  {
   "cell_type": "code",
   "execution_count": 70,
   "metadata": {},
   "outputs": [
    {
     "data": {
      "image/png": "[encoded data removed]",
      "text/plain": [
       "<Figure size 864x576 with 1 Axes>"
      ]
     },
     "metadata": {
      "needs_background": "light"
     },
     "output_type": "display_data"
    }
   ],
   "source": [
    "Seg.plot_hist_score()"
   ]
  },
  {
   "cell_type": "code",
   "execution_count": 71,
   "metadata": {},
   "outputs": [
    {
     "name": "stdout",
     "output_type": "stream",
     "text": [
      "26\n",
      "Number of Nodes : 17 Number of Edges : 65\n"
     ]
    }
   ],
   "source": [
    "def lambda_func(info): \n",
    "    return(info['score']<0.075)\n",
    "Seg.sorted_aggregation(lambda_func,print_info=True)\n",
    "#Seg.plot_cells_polyscope(anisotropy_factor = 1.25/0.99)"
   ]
  },
  {
   "cell_type": "code",
   "execution_count": 73,
   "metadata": {},
   "outputs": [
    {
     "name": "stdout",
     "output_type": "stream",
     "text": [
      "Number of problematic Nodes :  207\n",
      "Number of problematic Nodes :  207\n",
      "[2641, 4328, 5907, 6318, 6707, 7940, 8654, 10091, 10093, 10399, 10537, 10550, 10560, 10575, 10579, 10612, 10620, 11190, 11239, 11337]\n",
      "Refinement step finished. Number of nodes flipped : 257\n",
      "Number of problematic Nodes :  8\n",
      "[34770, 10550, 43518, 21756, 17474, 53236, 40626, 57831]\n",
      "Refinement step finished. Number of nodes flipped : 8\n"
     ]
    }
   ],
   "source": [
    "nodes_to_del = Seg.node_flipping_refinement()\n",
    "Seg.plot_cells_polyscope(anisotropy_factor = 0.99/1.25)"
   ]
  },
  {
   "cell_type": "code",
   "execution_count": null,
   "metadata": {},
   "outputs": [],
   "source": [
    "\n",
    "Verts = Verts[np.unique(Faces[:,:3])]\n",
    "np.amin(Verts,axis=0),np.amax(Verts,axis=0)\n",
    "from Plotting_tools import plot_cells_polyscope\n",
    "Verts,Faces = Seg.return_mesh()\n",
    "Verts[:,0]/=1.25*256/161\n",
    "plot_cells_polyscope(Verts,Faces)"
   ]
  },
  {
   "cell_type": "code",
   "execution_count": 10,
   "metadata": {},
   "outputs": [],
   "source": [
    "#Seg.node_removal_refinement()\n",
    "#Seg.plot_cells_polyscope()"
   ]
  },
  {
   "cell_type": "code",
   "execution_count": 26,
   "metadata": {},
   "outputs": [
    {
     "data": {
      "text/plain": [
       "[24100, 8424, 23648, 19578, 39802]"
      ]
     },
     "execution_count": 26,
     "metadata": {},
     "output_type": "execute_result"
    }
   ],
   "source": [
    "nodes_to_del"
   ]
  },
  {
   "cell_type": "code",
   "execution_count": 25,
   "metadata": {},
   "outputs": [],
   "source": [
    "Seg.plot_cells_polyscope()"
   ]
  },
  {
   "cell_type": "code",
   "execution_count": 9,
   "metadata": {},
   "outputs": [],
   "source": [
    "Seg.export_mesh_text(\"8_cells_compaction.rec\")"
   ]
  },
  {
   "cell_type": "code",
   "execution_count": 60,
   "metadata": {},
   "outputs": [
    {
     "data": {
      "text/plain": [
       "array([[31183, 31184],\n",
       "       [35397, 35406],\n",
       "       [31181, 35397],\n",
       "       ...,\n",
       "       [45330, 45502],\n",
       "       [45330, 45332],\n",
       "       [45330, 45331]])"
      ]
     },
     "execution_count": 60,
     "metadata": {},
     "output_type": "execute_result"
    }
   ],
   "source": [
    "nodes_linked = Seg.Delaunay_Graph.Nodes_Linked_by_Faces\n",
    "nodes_linked"
   ]
  },
  {
   "cell_type": "code",
   "execution_count": 82,
   "metadata": {},
   "outputs": [
    {
     "ename": "KeyError",
     "evalue": "9012",
     "output_type": "error",
     "traceback": [
      "\u001b[0;31m---------------------------------------------------------------------------\u001b[0m",
      "\u001b[0;31mKeyError\u001b[0m                                  Traceback (most recent call last)",
      "\u001b[0;32m<ipython-input-82-44ec75acda1f>\u001b[0m in \u001b[0;36m<module>\u001b[0;34m\u001b[0m\n\u001b[1;32m      7\u001b[0m \u001b[0mdict_pb_nodes\u001b[0m \u001b[0;34m=\u001b[0m \u001b[0;34m{\u001b[0m\u001b[0mkey\u001b[0m\u001b[0;34m:\u001b[0m\u001b[0;34m[\u001b[0m\u001b[0;34m]\u001b[0m \u001b[0;32mfor\u001b[0m \u001b[0mkey\u001b[0m \u001b[0;32min\u001b[0m \u001b[0mSeg\u001b[0m\u001b[0;34m.\u001b[0m\u001b[0mMap_end\u001b[0m\u001b[0;34m}\u001b[0m\u001b[0;34m\u001b[0m\u001b[0;34m\u001b[0m\u001b[0m\n\u001b[1;32m      8\u001b[0m \u001b[0;32mfor\u001b[0m \u001b[0mnode_idx\u001b[0m \u001b[0;32min\u001b[0m \u001b[0mnodes_to_del\u001b[0m \u001b[0;34m:\u001b[0m\u001b[0;34m\u001b[0m\u001b[0;34m\u001b[0m\u001b[0m\n\u001b[0;32m----> 9\u001b[0;31m     \u001b[0mkey\u001b[0m \u001b[0;34m=\u001b[0m \u001b[0mreverse_map\u001b[0m\u001b[0;34m[\u001b[0m\u001b[0mnode_idx\u001b[0m\u001b[0;34m]\u001b[0m\u001b[0;34m\u001b[0m\u001b[0;34m\u001b[0m\u001b[0m\n\u001b[0m\u001b[1;32m     10\u001b[0m     \u001b[0mdict_pb_nodes\u001b[0m\u001b[0;34m[\u001b[0m\u001b[0mkey\u001b[0m\u001b[0;34m]\u001b[0m\u001b[0;34m.\u001b[0m\u001b[0mappend\u001b[0m\u001b[0;34m(\u001b[0m\u001b[0mnode_idx\u001b[0m\u001b[0;34m)\u001b[0m\u001b[0;34m\u001b[0m\u001b[0;34m\u001b[0m\u001b[0m\n\u001b[1;32m     11\u001b[0m \u001b[0;34m\u001b[0m\u001b[0m\n",
      "\u001b[0;31mKeyError\u001b[0m: 9012"
     ]
    }
   ],
   "source": []
  },
  {
   "cell_type": "code",
   "execution_count": 80,
   "metadata": {},
   "outputs": [],
   "source": []
  },
  {
   "cell_type": "code",
   "execution_count": 79,
   "metadata": {},
   "outputs": [
    {
     "data": {
      "text/plain": [
       "([9012], {0: [], 1: [9012], 2: [], 3: [], 4: [], 5: [], 6: [], 7: [], 8: []})"
      ]
     },
     "execution_count": 79,
     "metadata": {},
     "output_type": "execute_result"
    }
   ],
   "source": [
    "nodes_to_del,dict_pb_nodes"
   ]
  },
  {
   "cell_type": "code",
   "execution_count": 70,
   "metadata": {},
   "outputs": [],
   "source": [
    "a = np.array([1,2,3,5,4,6,7,8])\n",
    "#np.remove(a,5)"
   ]
  },
  {
   "cell_type": "code",
   "execution_count": 71,
   "metadata": {},
   "outputs": [],
   "source": [
    "c = np.setdiff1d(a,[5])"
   ]
  },
  {
   "cell_type": "code",
   "execution_count": 72,
   "metadata": {},
   "outputs": [
    {
     "data": {
      "text/plain": [
       "array([1, 2, 3, 4, 6, 7, 8])"
      ]
     },
     "execution_count": 72,
     "metadata": {},
     "output_type": "execute_result"
    }
   ],
   "source": [
    "c"
   ]
  },
  {
   "cell_type": "code",
   "execution_count": null,
   "metadata": {},
   "outputs": [],
   "source": []
  }
 ],
 "metadata": {
  "kernelspec": {
   "display_name": "Python 3",
   "language": "python",
   "name": "python3"
  },
  "language_info": {
   "codemirror_mode": {
    "name": "ipython",
    "version": 3
   },
   "file_extension": ".py",
   "mimetype": "text/x-python",
   "name": "python",
   "nbconvert_exporter": "python",
   "pygments_lexer": "ipython3",
   "version": "3.8.3"
  }
 },
 "nbformat": 4,
 "nbformat_minor": 4
}
