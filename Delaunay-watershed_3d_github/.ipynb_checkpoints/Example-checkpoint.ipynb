{
 "cells": [
  {
   "cell_type": "code",
   "execution_count": 4,
   "metadata": {},
   "outputs": [
    {
     "name": "stdout",
     "output_type": "stream",
     "text": [
      "Mode == Torch\n",
      "Kernel size = 5\n",
      "Computing EDT ...\n",
      "EDT computed in  0.83\n",
      "Searching local extremas ...\n",
      "Number of local minimas : 3235\n",
      "Number of local maxes : 67\n",
      "Local minimas computed in  2.66\n",
      "Starting triangulation..\n",
      "Triangulation build in  0.05\n",
      "Graph build in  0.738\n",
      "Watershed done in  0.346\n"
     ]
    }
   ],
   "source": [
    "from delaunay_watershed_3d import geometry_reconstruction_3d\n",
    "import skimage.io as io \n",
    "\n",
    "def make_idx(n): \n",
    "    return((\"000\"+str(n))[-3:])\n",
    "i = 12 \n",
    "dist = 5\n",
    "\n",
    "image_path = \"Images/3.tif\"\n",
    "image = io.imread(image_path)\n",
    "DW = geometry_reconstruction_3d(image,min_dist = dist, expansion_labels =0,mode='torch',print_info=True)"
   ]
  },
  {
   "cell_type": "code",
   "execution_count": 5,
   "metadata": {},
   "outputs": [],
   "source": [
    "DW.export_mesh(\"test.rec\")"
   ]
  },
  {
   "cell_type": "code",
   "execution_count": 23,
   "metadata": {},
   "outputs": [],
   "source": [
    "DW.plot_cells_polyscope()"
   ]
  },
  {
   "cell_type": "code",
   "execution_count": 6,
   "metadata": {},
   "outputs": [],
   "source": [
    "v = DW.plot_in_napari()"
   ]
  }
 ],
 "metadata": {
  "kernelspec": {
   "display_name": "Python 3",
   "language": "python",
   "name": "python3"
  },
  "language_info": {
   "codemirror_mode": {
    "name": "ipython",
    "version": 3
   },
   "file_extension": ".py",
   "mimetype": "text/x-python",
   "name": "python",
   "nbconvert_exporter": "python",
   "pygments_lexer": "ipython3",
   "version": "3.8.3"
  }
 },
 "nbformat": 4,
 "nbformat_minor": 4
}
