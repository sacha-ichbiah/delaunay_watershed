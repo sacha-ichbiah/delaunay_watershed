{
 "cells": [
  {
   "cell_type": "code",
   "execution_count": null,
   "metadata": {},
   "outputs": [],
   "source": [
    "from Wrapper import build_wrapper\n",
    "from Geometric_utilities_3D import *\n",
    "from time import time\n",
    "import imageio as io"
   ]
  },
  {
   "cell_type": "code",
   "execution_count": null,
   "metadata": {},
   "outputs": [],
   "source": [
    "filename =\"/Users/sachaichbiah/Documents/PHD/Virtual_Embryo/Trash/3D_multimaterial_segmentation/TiffsFast_4_cells_other_res/Approx_Global_EDT.tiff\"\n",
    "Stack=np.array(io.mimread(filename)).astype(float)#'/Users/sachaichbiah/Documents/PHD/Virtual_Embryo/Gitlab/Trash/delaunay-triangulations/3D_Arabidopsis_Ovules/Tiffs/N_294_final_crop_ds2_predictions.tif',memtest=False)\n",
    "\n",
    "import scipy \n",
    "\n",
    "membrane_prob = np.amax(Stack)-Stack\n",
    "\n",
    "val_thresh=0.02\n",
    "point_density = 0.7"
   ]
  },
  {
   "cell_type": "code",
   "execution_count": null,
   "metadata": {},
   "outputs": [],
   "source": [
    "Stack.shape"
   ]
  },
  {
   "cell_type": "code",
   "execution_count": null,
   "metadata": {},
   "outputs": [],
   "source": [
    "plot_mask_to_evaluate_val_thresh(membrane_prob,val_thresh)"
   ]
  },
  {
   "cell_type": "code",
   "execution_count": null,
   "metadata": {},
   "outputs": [],
   "source": [
    "Seg = build_wrapper(membrane_prob,val_thresh,point_density)\n",
    "#tesselation,Total_EDT = build_tesselation_and_EDT_from_membrane_prob(membrane_prob,val_thresh,point_density,size_shell=20)"
   ]
  },
  {
   "cell_type": "code",
   "execution_count": null,
   "metadata": {},
   "outputs": [],
   "source": [
    "from Plotting_tools import points_cloud_over_picture\n",
    "#points_cloud_over_picture(tesselation.points*Total_EDT.shape[0],Total_EDT)"
   ]
  },
  {
   "cell_type": "code",
   "execution_count": null,
   "metadata": {},
   "outputs": [],
   "source": [
    "Seg.build_graph()\n",
    "#Seg.plot_image()\n",
    "Coords = np.array([[5,5,5],\n",
    "          [75,130,130],\n",
    "          [75,130,190],\n",
    "          [50,130,80],\n",
    "          [90,130,80]])\n",
    "Seg.watershed_seeded(Coords,print_info=True,plot_figure = False)"
   ]
  },
  {
   "cell_type": "code",
   "execution_count": null,
   "metadata": {},
   "outputs": [],
   "source": [
    "Seg.node_flipping_refinement()"
   ]
  },
  {
   "cell_type": "code",
   "execution_count": null,
   "metadata": {},
   "outputs": [],
   "source": [
    "#Seg.plot_cells_polyscope()"
   ]
  },
  {
   "cell_type": "code",
   "execution_count": null,
   "metadata": {},
   "outputs": [],
   "source": [
    "Seg.export_mesh_text(\"4_cells_tshape.rec\")"
   ]
  },
  {
   "cell_type": "code",
   "execution_count": null,
   "metadata": {},
   "outputs": [],
   "source": []
  },
  {
   "cell_type": "code",
   "execution_count": null,
   "metadata": {},
   "outputs": [],
   "source": []
  }
 ],
 "metadata": {
  "kernelspec": {
   "display_name": "Python 3",
   "language": "python",
   "name": "python3"
  },
  "language_info": {
   "codemirror_mode": {
    "name": "ipython",
    "version": 3
   },
   "file_extension": ".py",
   "mimetype": "text/x-python",
   "name": "python",
   "nbconvert_exporter": "python",
   "pygments_lexer": "ipython3",
   "version": "3.8.3"
  }
 },
 "nbformat": 4,
 "nbformat_minor": 4
}
