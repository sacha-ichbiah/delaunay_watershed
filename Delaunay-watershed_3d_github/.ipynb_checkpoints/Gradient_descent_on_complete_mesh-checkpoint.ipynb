{
 "cells": [
  {
   "cell_type": "code",
   "execution_count": null,
   "metadata": {
    "colab": {},
    "colab_type": "code",
    "id": "nF07sDgJWHQy"
   },
   "outputs": [],
   "source": [
    "# Copyright (c) Facebook, Inc. and its affiliates. All rights reserved."
   ]
  },
  {
   "cell_type": "code",
   "execution_count": 1,
   "metadata": {
    "colab": {},
    "colab_type": "code",
    "id": "_qkuyhyTeRyM"
   },
   "outputs": [],
   "source": [
    "import os\n",
    "import torch\n",
    "from pytorch3d.io import load_obj, save_obj\n",
    "from pytorch3d.structures import Meshes\n",
    "from pytorch3d.utils import ico_sphere\n",
    "from pytorch3d.ops import sample_points_from_meshes\n",
    "from pytorch3d.loss import (\n",
    "    chamfer_distance, \n",
    "    mesh_edge_loss, \n",
    "    mesh_laplacian_smoothing, \n",
    "    mesh_normal_consistency,\n",
    ")\n",
    "import numpy as np\n",
    "from tqdm.notebook import tqdm\n",
    "%matplotlib notebook \n",
    "from mpl_toolkits.mplot3d import Axes3D\n",
    "import matplotlib.pyplot as plt\n",
    "import matplotlib as mpl\n",
    "\n",
    "\n",
    "from Mesh_utilities import open_mesh_multitracker,separate_faces\n",
    "from Dcel import DCEL_Data\n",
    "from Mesh_smoothing import *#extract_faces_manifolds,Compute_Area_Faces,Compute_Volume_manifold"
   ]
  },
  {
   "cell_type": "code",
   "execution_count": 2,
   "metadata": {
    "colab": {},
    "colab_type": "code",
    "id": "rbyRhI8ituvW"
   },
   "outputs": [],
   "source": [
    "device = 'cpu'\n",
    "verts,faces_mm,_ = open_mesh_multitracker('txt',\"8_cells_compaction.rec\")\n",
    "faces = faces_mm[:,:3]\n",
    "faces_mm[:,[3,4]]+=1\n",
    "Mesh = DCEL_Data(verts,faces_mm)\n",
    "\n",
    "\n",
    "Faces_manifolds = extract_faces_manifolds(Mesh)\n",
    "\n",
    "faces_idx = torch.tensor(Mesh.f[:,:3],dtype=torch.long).to(device)\n",
    "verts = torch.tensor(Mesh.v,dtype=torch.float).to(device)\n",
    "\n",
    "# We scale normalize and center the target mesh to fit in a sphere of radius 1 centered at (0,0,0). \n",
    "# (scale, center) will be used to bring the predicted mesh to its original center and scale\n",
    "# Note that normalizing the target mesh, speeds up the optimization but is not necessary!\n",
    "center = verts.mean(0)\n",
    "verts = verts - center\n",
    "scale = max(verts.abs().max(0)[0])\n",
    "verts = verts / scale\n",
    "\n",
    "src_mesh = Meshes(verts=[verts], faces=[faces_idx])\n",
    "\n",
    "# We construct a Meshes structure for the target mesh\n",
    "from Plotting_tools import plot_cells_polyscope\n",
    "#plot_cells_polyscope(verts,faces_mm)"
   ]
  },
  {
   "cell_type": "code",
   "execution_count": 4,
   "metadata": {},
   "outputs": [
    {
     "name": "stdout",
     "output_type": "stream",
     "text": [
      "Number of trijunctional edges : 269 5\n"
     ]
    }
   ],
   "source": [
    "Edges_trijunctions = Mesh.find_trijunctional_edges()"
   ]
  },
  {
   "cell_type": "code",
   "execution_count": 5,
   "metadata": {},
   "outputs": [],
   "source": [
    "Meshes_list = []\n",
    "Target_volumes = []\n",
    "\n",
    "for i in range(1,len(Faces_manifolds)):\n",
    "    faces_idx = torch.tensor(Faces_manifolds[i],dtype=torch.long).to(device)\n",
    "    Meshes_list.append(Meshes(verts=[verts], faces=[faces_idx]))\n",
    "    Target_volumes.append(Compute_Volume_manifold(verts,faces_idx))"
   ]
  },
  {
   "cell_type": "code",
   "execution_count": 19,
   "metadata": {
    "colab": {},
    "colab_type": "code",
    "id": "Sc-3M17Ltuvh"
   },
   "outputs": [],
   "source": [
    "# We will learn to deform the source mesh by offsetting its vertices\n",
    "# The shape of the deform parameters is equal to the total number of vertices in src_mesh\n",
    "deform_verts = torch.full(src_mesh.verts_packed().shape, 0.0, device=device, requires_grad=True)\n",
    "# The optimizer\n",
    "optimizer = torch.optim.SGD([deform_verts], lr=1.0, momentum=0.9)"
   ]
  },
  {
   "cell_type": "markdown",
   "metadata": {},
   "source": [
    "# On va fonctionner de la manière suivante : on aura autant de mesh pytorch que de cellules, et on va calculer les loss volume et normal sur chacune"
   ]
  },
  {
   "cell_type": "code",
   "execution_count": 22,
   "metadata": {
    "colab": {
     "base_uri": "https://localhost:8080/",
     "height": 1000,
     "referenced_widgets": [
      "12fdcbc799cc4da899d889d0399616c2",
      "0bd231c2134e4127a3756807317d6aae",
      "23804ad243d44cecbff89ab0b7f40c7e",
      "be25dd06faf04bf29733cc16deefb189",
      "283601ac2fe54ecc8716aed8842a5dd2",
      "6e2ff75105a74afbb4ed3fafd414e16f",
      "5462de8f68be408d98a6a495e630f448",
      "6e1e9eb164434a06b7b1bc73e4eb4fcd"
     ]
    },
    "colab_type": "code",
    "id": "9DAjqI9Atuvp",
    "outputId": "d59e959b-8616-40fe-aec4-5b09b27e325f"
   },
   "outputs": [
    {
     "data": {
      "application/vnd.jupyter.widget-view+json": {
       "model_id": "3dd297ba9a084863ae9c2f6d6f46fae0",
       "version_major": 2,
       "version_minor": 0
      },
      "text/plain": [
       "  0%|          | 0/1000 [00:00<?, ?it/s]"
      ]
     },
     "metadata": {},
     "output_type": "display_data"
    },
    {
     "name": "stdout",
     "output_type": "stream",
     "text": [
      "313.2655944824219 4.96334109811869e-07 0.011458984576165676 0.42556464672088623 736442.625\n",
      "313.1990966796875 3.2837476737768156e-07 0.011434598825871944 0.4199637174606323 735118.25\n",
      "313.1571044921875 2.2091259666012775e-07 0.011410387232899666 0.4150676131248474 733797.625\n",
      "313.1119384765625 1.7327447210391256e-07 0.011385847814381123 0.41047653555870056 732452.75\n",
      "313.0460510253906 1.8144969260447397e-07 0.011360663920640945 0.40593889355659485 731066.125\n",
      "312.9534606933594 2.4466010017931694e-07 0.011334773153066635 0.4012075960636139 729636.0625\n",
      "312.8397521972656 3.6155788052383286e-07 0.011308442801237106 0.3967781364917755 728177.5625\n",
      "312.7123107910156 5.13133272761479e-07 0.011282028630375862 0.39287132024765015 726708.1875\n",
      "312.5876159667969 6.542028927469801e-07 0.011255927383899689 0.38910049200057983 725250.5625\n",
      "312.47955322265625 7.382926696664072e-07 0.011230501346290112 0.3852301836013794 723823.75\n",
      "312.3965759277344 7.437948852384579e-07 0.011206083931028843 0.38170865178108215 722445.125\n",
      "312.3382568359375 6.743881613147096e-07 0.011182873509824276 0.37866872549057007 721122.9375\n",
      "312.2981262207031 5.575577119998343e-07 0.011160917580127716 0.37607014179229736 719858.625\n",
      "312.2677917480469 4.401528599373705e-07 0.011140191927552223 0.3739614486694336 718648.375\n",
      "312.23712158203125 3.559538868103118e-07 0.011120585724711418 0.37173745036125183 717483.75\n",
      "312.2039489746094 3.071530159104441e-07 0.011102055199444294 0.36997121572494507 716362.4375\n",
      "312.16162109375 2.8036794219588046e-07 0.011084183119237423 0.36785656213760376 715268.5\n"
     ]
    },
    {
     "ename": "KeyboardInterrupt",
     "evalue": "",
     "output_type": "error",
     "traceback": [
      "\u001b[0;31m---------------------------------------------------------------------------\u001b[0m",
      "\u001b[0;31mKeyboardInterrupt\u001b[0m                         Traceback (most recent call last)",
      "\u001b[0;32m<ipython-input-22-56436d7298d7>\u001b[0m in \u001b[0;36m<module>\u001b[0;34m\u001b[0m\n\u001b[1;32m     57\u001b[0m         \u001b[0mF\u001b[0m \u001b[0;34m=\u001b[0m \u001b[0mnew_cells_mesh\u001b[0m\u001b[0;34m[\u001b[0m\u001b[0;34m-\u001b[0m\u001b[0;36m1\u001b[0m\u001b[0;34m]\u001b[0m\u001b[0;34m.\u001b[0m\u001b[0mfaces_packed\u001b[0m\u001b[0;34m(\u001b[0m\u001b[0;34m)\u001b[0m\u001b[0;34m\u001b[0m\u001b[0;34m\u001b[0m\u001b[0m\n\u001b[1;32m     58\u001b[0m         \u001b[0mtarget_volume\u001b[0m \u001b[0;34m=\u001b[0m \u001b[0mTarget_volumes\u001b[0m\u001b[0;34m[\u001b[0m\u001b[0mi\u001b[0m\u001b[0;34m]\u001b[0m\u001b[0;34m\u001b[0m\u001b[0;34m\u001b[0m\u001b[0m\n\u001b[0;32m---> 59\u001b[0;31m         \u001b[0mlosses_volume\u001b[0m\u001b[0;34m.\u001b[0m\u001b[0mappend\u001b[0m\u001b[0;34m(\u001b[0m\u001b[0;34m(\u001b[0m\u001b[0mCompute_Volume_manifold\u001b[0m\u001b[0;34m(\u001b[0m\u001b[0mV\u001b[0m\u001b[0;34m,\u001b[0m\u001b[0mF\u001b[0m\u001b[0;34m)\u001b[0m\u001b[0;34m-\u001b[0m\u001b[0mtarget_volume\u001b[0m\u001b[0;34m)\u001b[0m\u001b[0;34m**\u001b[0m\u001b[0;36m2\u001b[0m\u001b[0;34m)\u001b[0m\u001b[0;34m\u001b[0m\u001b[0;34m\u001b[0m\u001b[0m\n\u001b[0m\u001b[1;32m     60\u001b[0m \u001b[0;34m\u001b[0m\u001b[0m\n\u001b[1;32m     61\u001b[0m \u001b[0;34m\u001b[0m\u001b[0m\n",
      "\u001b[0;32m~/Documents/PHD/Virtual_Embryo/Projects/C_Elegans_Project/Delaunay-watershed_3d/Mesh_smoothing.py\u001b[0m in \u001b[0;36mCompute_Volume_manifold\u001b[0;34m(Verts, Faces)\u001b[0m\n\u001b[1;32m     36\u001b[0m     \u001b[0mVolume\u001b[0m \u001b[0;34m=\u001b[0m \u001b[0;36m0\u001b[0m\u001b[0;34m\u001b[0m\u001b[0;34m\u001b[0m\u001b[0m\n\u001b[1;32m     37\u001b[0m     \u001b[0;32mfor\u001b[0m \u001b[0mi\u001b[0m\u001b[0;34m,\u001b[0m\u001b[0mface\u001b[0m \u001b[0;32min\u001b[0m \u001b[0menumerate\u001b[0m\u001b[0;34m(\u001b[0m\u001b[0mFaces\u001b[0m\u001b[0;34m)\u001b[0m \u001b[0;34m:\u001b[0m\u001b[0;34m\u001b[0m\u001b[0;34m\u001b[0m\u001b[0m\n\u001b[0;32m---> 38\u001b[0;31m         \u001b[0mindex\u001b[0m \u001b[0;34m=\u001b[0m \u001b[0mFaces\u001b[0m\u001b[0;34m[\u001b[0m\u001b[0mi\u001b[0m\u001b[0;34m,\u001b[0m\u001b[0;34m[\u001b[0m\u001b[0;36m0\u001b[0m\u001b[0;34m,\u001b[0m\u001b[0;36m1\u001b[0m\u001b[0;34m,\u001b[0m\u001b[0;36m2\u001b[0m\u001b[0;34m]\u001b[0m\u001b[0;34m]\u001b[0m\u001b[0;34m\u001b[0m\u001b[0;34m\u001b[0m\u001b[0m\n\u001b[0m\u001b[1;32m     39\u001b[0m         \u001b[0mCoords\u001b[0m \u001b[0;34m=\u001b[0m \u001b[0mVerts\u001b[0m\u001b[0;34m[\u001b[0m\u001b[0mindex\u001b[0m\u001b[0;34m]\u001b[0m\u001b[0;34m\u001b[0m\u001b[0;34m\u001b[0m\u001b[0m\n\u001b[1;32m     40\u001b[0m         \u001b[0minc\u001b[0m \u001b[0;34m=\u001b[0m \u001b[0mtorch\u001b[0m\u001b[0;34m.\u001b[0m\u001b[0mlinalg\u001b[0m\u001b[0;34m.\u001b[0m\u001b[0mdet\u001b[0m\u001b[0;34m(\u001b[0m\u001b[0mCoords\u001b[0m\u001b[0;34m)\u001b[0m\u001b[0;34m\u001b[0m\u001b[0;34m\u001b[0m\u001b[0m\n",
      "\u001b[0;31mKeyboardInterrupt\u001b[0m: "
     ]
    }
   ],
   "source": [
    "# Number of optimization steps\n",
    "Niter = 1000\n",
    "\n",
    "w_area = 0.00001\n",
    "w_line = 0.00000001\n",
    "w_volume = 10\n",
    "# Weight for mesh edge loss\n",
    "w_edge = 1.0 \n",
    "# Weight for mesh normal consistency\n",
    "w_normal = 0.01 \n",
    "# Weight for mesh laplacian smoothing\n",
    "w_laplacian = 0.1 \n",
    "# Plot period for the losses\n",
    "plot_period = 250\n",
    "loop = tqdm(range(Niter))\n",
    "\n",
    "laplacian_losses = []\n",
    "edge_losses = []\n",
    "normal_losses = []\n",
    "\n",
    "%matplotlib inline\n",
    "\n",
    "for i in loop:\n",
    "    # Initialize optimizer\n",
    "    optimizer.zero_grad()\n",
    "    \n",
    "    \n",
    "    \"\"\"\n",
    "    GLOBAL LOSSES : \n",
    "    \"\"\"\n",
    "    \n",
    "    # Deform the whole mesh\n",
    "    new_src_mesh = src_mesh.offset_verts(deform_verts)\n",
    "    \n",
    "    #loss area : \n",
    "    V = new_src_mesh.verts_packed()\n",
    "    F = new_src_mesh.faces_packed()\n",
    "    loss_area = (Compute_Area_Faces(V,F)).sum()**2\n",
    "    \n",
    "    # the edge length of the predicted mesh\n",
    "    loss_edge = mesh_edge_loss(new_src_mesh)\n",
    "    \n",
    "    loss_line = (Compute_length_edges_trijunctions(V,Edges_trijunctions)).sum()**2\n",
    "    \n",
    "    \"\"\"\n",
    "    CELL-SPECIFIC LOSSES : \n",
    "    \"\"\"\n",
    "    \n",
    "    losses_normals = []\n",
    "    losses_volume = []\n",
    "    new_cells_mesh = []\n",
    "    for i,cell_mesh in enumerate(Meshes_list) : \n",
    "        new_cells_mesh.append(cell_mesh.offset_verts(deform_verts))\n",
    "        losses_normals.append(mesh_normal_consistency(new_cells_mesh[-1]))\n",
    "        \n",
    "        V = new_cells_mesh[-1].verts_packed()\n",
    "        F = new_cells_mesh[-1].faces_packed()\n",
    "        target_volume = Target_volumes[i]\n",
    "        losses_volume.append((Compute_Volume_manifold(V,F)-target_volume)**2)\n",
    "    \n",
    "   \n",
    "\n",
    "    loss = loss_edge * w_edge + loss_area * w_area + loss_line * w_line\n",
    "    \n",
    "    for i in range(len(Meshes_list)): \n",
    "        loss = loss + losses_volume[i] * w_volume + losses_normals[i] * w_normal \n",
    "        \n",
    "        \n",
    "    loss_volume = torch.sum(torch.tensor(losses_volume))\n",
    "    loss_normal = torch.sum(torch.tensor(losses_normals))\n",
    "    print(loss_area.item(),loss_volume.item(),loss_edge.item(),loss_normal.item(),loss_line.item())\n",
    "    #print(Compute_Volume_manifold(V,F).item(),target_volume)\n",
    "    # Print the losses\n",
    "    loop.set_description('total_loss = %.6f' % loss)\n",
    "    \n",
    "    # Save the losses for plotting\n",
    "    #edge_losses.append(float(loss_edge.detach().cpu()))\n",
    "    #normal_losses.append(float(loss_normal.detach().cpu()))\n",
    "    #laplacian_losses.append(float(loss_laplacian.detach().cpu()))\n",
    "    \n",
    "        \n",
    "    # Optimization step\n",
    "    loss.backward()\n",
    "    optimizer.step()\n"
   ]
  },
  {
   "cell_type": "code",
   "execution_count": 23,
   "metadata": {},
   "outputs": [],
   "source": [
    "plot_cells_polyscope(new_src_mesh.verts_packed().detach().numpy(),faces_mm)"
   ]
  }
 ],
 "metadata": {
  "accelerator": "GPU",
  "bento_stylesheets": {
   "bento/extensions/flow/main.css": true,
   "bento/extensions/kernel_selector/main.css": true,
   "bento/extensions/kernel_ui/main.css": true,
   "bento/extensions/new_kernel/main.css": true,
   "bento/extensions/system_usage/main.css": true,
   "bento/extensions/theme/main.css": true
  },
  "colab": {
   "name": "deform_source_mesh_to_target_mesh.ipynb",
   "provenance": []
  },
  "kernelspec": {
   "display_name": "Python 3",
   "language": "python",
   "name": "python3"
  },
  "language_info": {
   "codemirror_mode": {
    "name": "ipython",
    "version": 3
   },
   "file_extension": ".py",
   "mimetype": "text/x-python",
   "name": "python",
   "nbconvert_exporter": "python",
   "pygments_lexer": "ipython3",
   "version": "3.8.3"
  }
 },
 "nbformat": 4,
 "nbformat_minor": 4
}
